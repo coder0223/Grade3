{
 "cells": [
  {
   "cell_type": "code",
   "execution_count": 1,
   "metadata": {},
   "outputs": [],
   "source": [
    "import sys\n",
    "from collections import defaultdict\n",
    "from textblob import TextBlob\n",
    "from textblob import Word\n",
    "import nltk"
   ]
  },
  {
   "cell_type": "code",
   "execution_count": 2,
   "metadata": {},
   "outputs": [],
   "source": [
    "Term = [\"username\",\"text\",\"tweetid\"]#该三项为term的主要信息\n",
    "postings = defaultdict(dict)#建立posting list"
   ]
  },
  {
   "cell_type": "code",
   "execution_count": 3,
   "metadata": {},
   "outputs": [],
   "source": [
    "#令牌化排序\n",
    "def tokenize_(document):\n",
    "    document = document.lower()\n",
    "    a = document.index(\"username\")#返回指定的索引名称\n",
    "    b = document.index(\"clusterno\")\n",
    "    c = document.rindex(\"tweetid\")-1\n",
    "    d = document.rindex(\"errorcode\")\n",
    "    e = document.index(\"text\")\n",
    "    f = document.index(\"timestr\")-3#获取时间戳\n",
    "\n",
    "    document = document[c:d] + document[a:b] + document[e:f]\n",
    "    #简化，将tweetid、username、text作为主要信息\n",
    "    terms = TextBlob(document).words.singularize()#将名词变为单数\n",
    "    result=[]\n",
    "    for word in terms:\n",
    "        except_str = Word(word)\n",
    "        except_str = except_str.lemmatize(\"v\")#参数为v表示处理动词\n",
    "        #lemmatize()函数用于对单词进行词性还原，名词为单数形式，动词为原型\n",
    "        if except_str not in Term:\n",
    "            result.append(except_str)#添加处理后的term\n",
    "    return result"
   ]
  },
  {
   "cell_type": "code",
   "execution_count": 4,
   "metadata": {},
   "outputs": [],
   "source": [
    "#建立posting list\n",
    "def get_posting():\n",
    "    global postings\n",
    "    f = open(\"./tweets.txt\")#使用open()函数读取文档\n",
    "    lines = f.readlines()#lines中包含文档的每一行\n",
    "    for line in lines:\n",
    "        line = tokenize_(line)#将每一行进行词条化\n",
    "        tweetid = line[0]\n",
    "        line.pop(0)#去除tweetid，保留username和text\n",
    "        unique_terms = set(line)#set保持各异性\n",
    "        for te in unique_terms:\n",
    "            if te in postings.keys():#若在posting list中\n",
    "                postings[te].append(tweetid)\n",
    "            else:\n",
    "                postings[te] = [tweetid]\n"
   ]
  },
  {
   "cell_type": "code",
   "execution_count": 5,
   "metadata": {},
   "outputs": [],
   "source": [
    "#and操作，需要同时存在term1和term2\n",
    "def op_and(term1, term2):\n",
    "    global postings\n",
    "    answer=[]\n",
    "    if(term1 not in postings) or (term2 not in postings):\n",
    "        return answer#只要任一不存在则返回空\n",
    "    else:\n",
    "        i = len(postings[term1])\n",
    "        j = len(postings[term2])#获取term1和term2的长度\n",
    "        x=0\n",
    "        y=0\n",
    "        while x<i and y<j:#在二者的posting list中相比较，若对应位置相同，则共同加1\n",
    "            if postings[term1][x] == postings[term2][y]:\n",
    "                answer.append(postings[term1][x])\n",
    "                x+=1\n",
    "                y+=1\n",
    "            elif postings[term1][x]<postings[term2][y]:\n",
    "                x+=1\n",
    "            else:\n",
    "                y+=1\n",
    "        return answer\n"
   ]
  },
  {
   "cell_type": "code",
   "execution_count": 6,
   "metadata": {},
   "outputs": [],
   "source": [
    "#or操作，只需要包含其一即可\n",
    "def op_or(term1,term2):\n",
    "    answer=[]\n",
    "    \n",
    "    if(term1 not in postings) and (term2 not in postings):\n",
    "        answer = []#如果二者都不在则返回空\n",
    "    elif term2 not in postings:\n",
    "        answer = postings[term1]\n",
    "    elif term1 not in postings:#如果其一不存在，则返回另一个的posing list\n",
    "        answer = postings[term2]\n",
    "    else:#二者都存在，以A为准，在B中找A没有的\n",
    "        answer = postings[term1]\n",
    "        for item in postings[term2]:\n",
    "            if item not in answer:\n",
    "                answer.append(item)\n",
    "    \"\"\"  \n",
    "    if(term1 not in postings) and (term2 not in postings):\n",
    "        answer=[]\n",
    "    else:\n",
    "      \n",
    "    x=0\n",
    "    y=0\n",
    "    i = len(postings[term1])\n",
    "    j = len(postings[term2])\n",
    "    while x<i and y<j:\n",
    "        if postings[term1][x] == postings[term2][y]:\n",
    "            answer.append(postings[term1][x])\n",
    "            x+=1\n",
    "            y+=1\n",
    "        elif postings[term1][x]<postings[term2][y]:\n",
    "            answer.append(postings[term1][x])\n",
    "            x+=1\n",
    "        else:\n",
    "            answer.append(postings[term2][y])\n",
    "            y+=1 \n",
    "    \"\"\"\n",
    "    return answer\n"
   ]
  },
  {
   "cell_type": "code",
   "execution_count": 7,
   "metadata": {},
   "outputs": [],
   "source": [
    "#not操作，term1 not term2，需要包含term1，不包含term2\n",
    "def op_not(term1,term2):\n",
    "    answer=[]\n",
    "    if term1 not in postings:#没有term1，直接返回空\n",
    "        return answer\n",
    "    elif term2 not in postings:#若没有term2，直接返回term1的posting list\n",
    "        answer = postings[term1]\n",
    "        return answer\n",
    "    else:\n",
    "        answer = postings[term1]#以term1的posing list为准\n",
    "        res=[]\n",
    "        for ans in answer:#若不在term2的posting list中，则符合条件\n",
    "            if ans not in postings[term2]:\n",
    "                res.append(ans)\n",
    "        return res\n"
   ]
  },
  {
   "cell_type": "code",
   "execution_count": 8,
   "metadata": {},
   "outputs": [],
   "source": [
    "#将查询语句词条化\n",
    "def tokenize_query(doc):\n",
    "    doc=doc.lower()\n",
    "    terms = TextBlob(doc).words.singularize()#名词变为单数\n",
    "    res=[]\n",
    "    for word in terms:\n",
    "        except_str = Word(word)\n",
    "        except_str = except_str.lemmatize(\"v\")#动词恢复原形\n",
    "        res.append(except_str)\n",
    "    return res\n"
   ]
  },
  {
   "cell_type": "code",
   "execution_count": 9,
   "metadata": {},
   "outputs": [],
   "source": [
    "def do_search():\n",
    "    terms = tokenize_query(input(\"please input your search query>> \"))\n",
    "    if terms ==[]:\n",
    "        sys.exit()\n",
    "    if len(terms)==3:#查询语句只包含三个单词\n",
    "        if terms[1] == \"and\":#表示and操作\n",
    "            answer = op_and(terms[0], terms[2])\n",
    "            print(answer)\n",
    "        elif terms[1] == \"or\":#表示or操作\n",
    "            answer = op_or(terms[0], terms[2])\n",
    "            print(answer)\n",
    "        elif terms[1]==\"not\":#表示not操作\n",
    "            answer = op_not(terms[0], terms[2])\n",
    "            print(answer)\n",
    "        else:\n",
    "            print(\"Error! Please input correctly\")\n",
    "    else:\n",
    "        print(\"Input Error, please input like A xxx B\")\n"
   ]
  },
  {
   "cell_type": "code",
   "execution_count": null,
   "metadata": {},
   "outputs": [],
   "source": [
    "def main():\n",
    "    get_posting()\n",
    "    while True:\n",
    "        do_search()\n",
    "\n",
    "if __name__==\"__main__\":\n",
    "    main()"
   ]
  },
  {
   "cell_type": "code",
   "execution_count": null,
   "metadata": {},
   "outputs": [],
   "source": []
  }
 ],
 "metadata": {
  "interpreter": {
   "hash": "a8f61be024eba58adef938c9aa1e29e02cb3dece83a5348b1a2dafd16a070453"
  },
  "kernelspec": {
   "display_name": "Python 3",
   "language": "python",
   "name": "python3"
  },
  "language_info": {
   "codemirror_mode": {
    "name": "ipython",
    "version": 3
   },
   "file_extension": ".py",
   "mimetype": "text/x-python",
   "name": "python",
   "nbconvert_exporter": "python",
   "pygments_lexer": "ipython3",
   "version": "3.7.6"
  }
 },
 "nbformat": 4,
 "nbformat_minor": 4
}
