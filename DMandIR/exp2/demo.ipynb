{
 "cells": [
  {
   "cell_type": "code",
   "execution_count": 1,
   "metadata": {},
   "outputs": [],
   "source": [
    "import sys\n",
    "import math\n",
    "from functools import reduce\n",
    "from textblob import TextBlob\n",
    "from textblob import Word\n",
    "from collections import defaultdict"
   ]
  },
  {
   "cell_type": "code",
   "execution_count": 2,
   "metadata": {},
   "outputs": [],
   "source": [
    "postingList = defaultdict(dict)\n",
    "doc_num = 0\n",
    "K=100\n",
    "d_num = defaultdict(int)#文档数组\n",
    "t_num = defaultdict(int)#词数组\n",
    "score_tid = defaultdict(dict)\n",
    "Term = [\"tweetid\", \"usename\", \"text\"]"
   ]
  },
  {
   "cell_type": "code",
   "execution_count": 3,
   "metadata": {},
   "outputs": [],
   "source": [
    "def tokenize_(document):\n",
    "    document = document.lower()\n",
    "    a = document.index(\"username\")\n",
    "    b=document.index(\"clusterno\")\n",
    "    c=document.rindex(\"tweetid\") - 1\n",
    "    d=document.rindex(\"errorcode\")\n",
    "    e=document.index(\"text\")\n",
    "    f=document.index(\"timestr\") - 3\n",
    "    #获取tweetid、username、text这三部分信息\n",
    "    document=document[c:d] + document[a:b] + document[e:f]  \n",
    "    #将所有名词变为单数形式\n",
    "    terms=TextBlob(document).words.singularize()\n",
    "    res=[]\n",
    "    for word in terms:\n",
    "        t = Word(word)\n",
    "        t = t.lemmatize(\"v\")#将动词恢复原形\n",
    "        if t not in Term:\n",
    "            res.append(t)\n",
    "    return res"
   ]
  },
  {
   "cell_type": "code",
   "execution_count": 4,
   "metadata": {},
   "outputs": [],
   "source": [
    "def token(document):\n",
    "    document = document.lower()\n",
    "    terms = TextBlob(document).words.singularize()\n",
    "    res=[]\n",
    "    for word in terms:\n",
    "        t = Word(word)\n",
    "        t = t.lemmatize(\"v\")\n",
    "        res.append(t)\n",
    "    return res"
   ]
  },
  {
   "cell_type": "code",
   "execution_count": 5,
   "metadata": {},
   "outputs": [],
   "source": [
    "def get_posting():\n",
    "    global postingList, doc_num\n",
    "    f = open(r\"tweets.txt\")\n",
    "    lines = f.readlines()\n",
    "    doc_num=0\n",
    "    for line in lines:\n",
    "        doc_num = doc_num + 1\n",
    "        line = tokenize_(line)\n",
    "        tweetid = line[0]\n",
    "        line.pop(0)\n",
    "        d_num={}\n",
    "        for term in line:\n",
    "            if term in d_num.keys():\n",
    "                d_num[term]+=1\n",
    "            else:\n",
    "                d_num[term]=1\n",
    "        for term in d_num.keys():\n",
    "            d_num[term] = 1 + math.log10(d_num[term])\n",
    "        #normalization\n",
    "        nor=0\n",
    "        for term in d_num.keys():\n",
    "            nor = nor + d_num[term]\n",
    "        nor = 1.0 / math.sqrt(nor)\n",
    "        for term in d_num.keys():\n",
    "            d_num[term] = d_num[term] * nor\n",
    "        #sort\n",
    "        uniTerm = set(line)\n",
    "        for term in uniTerm:\n",
    "            if term in postingList.keys():\n",
    "                postingList[term][tweetid] = d_num[term]\n",
    "            else:\n",
    "                postingList[term][tweetid] = d_num[term]"
   ]
  },
  {
   "cell_type": "code",
   "execution_count": 6,
   "metadata": {},
   "outputs": [],
   "source": [
    "def Union(sets):\n",
    "    return reduce(set.union, [s for s in sets])"
   ]
  },
  {
   "cell_type": "code",
   "execution_count": 7,
   "metadata": {},
   "outputs": [],
   "source": [
    "def similarity_(query):\n",
    "    global socre_tid\n",
    "    t_num={}#存放query中每个词的频数\n",
    "    #计算query中每个词出现的次数\n",
    "    for term in query:\n",
    "        if term in t_num:\n",
    "            t_num[term]+=1\n",
    "        else:\n",
    "            t_num[term]=1\n",
    "    for term in t_num.keys():\n",
    "        if term in postingList:\n",
    "            d_f = len(postingList[term])\n",
    "        else:\n",
    "            d_f = doc_num\n",
    "        t_num[term] = (math.log10(t_num[term])+1) * math.log10(doc_num/d_f)\n",
    "    for term in query:\n",
    "        if term in postingList:\n",
    "            for tid in postingList[term]:\n",
    "                if tid in score_tid.keys():\n",
    "                    score_tid[tid] += postingList[term][tid] * t_num[term]\n",
    "                else:\n",
    "                    score_tid[tid] = postingList[term][tid] * t_num[term]\n",
    "    similarity = sorted(score_tid.items(), key=lambda x:x[1], reverse=True)\n",
    "    return similarity"
   ]
  },
  {
   "cell_type": "code",
   "execution_count": 8,
   "metadata": {},
   "outputs": [],
   "source": [
    "def do_search():\n",
    "    query = token(input(\"please input the query : \"))\n",
    "    res=[]\n",
    "    if query==[]:\n",
    "        sys.exit()\n",
    "    uniquery = set(query)\n",
    "    relevant_tid = Union([set(postingList[term].keys()) for term in uniquery])\n",
    "    print(\"------------------Start------------------\")\n",
    "    print(\"There are \"+str(len(relevant_tid))+\" relevant tweets in total!\")\n",
    "    if not relevant_tid:\n",
    "        print(\"There is no relevant tweet!\")\n",
    "    else:\n",
    "        print(\"( TweetId : Score )\")\n",
    "        print(\"The top \"+str(K)+\" tweets are: \")\n",
    "        scores = similarity_(query)\n",
    "        i=1\n",
    "        for (id,score) in scores:\n",
    "            if i<=K:\n",
    "                res.append(id)\n",
    "                print(id+\" : \"+str(score))\n",
    "                i = i+1\n",
    "            else:\n",
    "                break\n",
    "        print(\"------------------Finished!------------------\")"
   ]
  },
  {
   "cell_type": "code",
   "execution_count": 9,
   "metadata": {},
   "outputs": [],
   "source": [
    "get_posting()"
   ]
  },
  {
   "cell_type": "code",
   "execution_count": null,
   "metadata": {},
   "outputs": [],
   "source": [
    "do_search()"
   ]
  },
  {
   "cell_type": "code",
   "execution_count": null,
   "metadata": {},
   "outputs": [],
   "source": []
  },
  {
   "cell_type": "code",
   "execution_count": null,
   "metadata": {},
   "outputs": [],
   "source": []
  }
 ],
 "metadata": {
  "kernelspec": {
   "display_name": "Python 3",
   "language": "python",
   "name": "python3"
  },
  "language_info": {
   "codemirror_mode": {
    "name": "ipython",
    "version": 3
   },
   "file_extension": ".py",
   "mimetype": "text/x-python",
   "name": "python",
   "nbconvert_exporter": "python",
   "pygments_lexer": "ipython3",
   "version": "3.7.6"
  }
 },
 "nbformat": 4,
 "nbformat_minor": 4
}
